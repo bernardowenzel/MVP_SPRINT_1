{
  "nbformat": 4,
  "nbformat_minor": 0,
  "metadata": {
    "colab": {
      "provenance": [],
      "collapsed_sections": [
        "9VVXRJZI6ugy",
        "rwqJ1GxaC6iJ"
      ],
      "authorship_tag": "ABX9TyNFlC4Xssrx6n7pnSuZv5ly",
      "include_colab_link": true
    },
    "kernelspec": {
      "name": "python3",
      "display_name": "Python 3"
    },
    "language_info": {
      "name": "python"
    }
  },
  "cells": [
    {
      "cell_type": "markdown",
      "metadata": {
        "id": "view-in-github",
        "colab_type": "text"
      },
      "source": [
        "<a href=\"https://colab.research.google.com/github/bernardowenzel/MVP_SPRINT_1/blob/main/MVP_Bernardo_Wenzel_Sprint_1_Machine_Learning.ipynb\" target=\"_parent\"><img src=\"https://colab.research.google.com/assets/colab-badge.svg\" alt=\"Open In Colab\"/></a>"
      ]
    },
    {
      "cell_type": "markdown",
      "source": [
        "#**Modelo de Classificação - Avaliação de decisão de compra de carro**"
      ],
      "metadata": {
        "id": "FjaqXNEOoa2w"
      }
    },
    {
      "cell_type": "markdown",
      "source": [
        "**Situação Hipotética**\n",
        "\n",
        "Ronaldo trabalha como vendedor numa concessionária de carros e, como toda empresa que trabalha com vendas, precisa estar bastante atento ao atingimento das metas mensais.\n",
        "\n",
        "Devido a preocupação e pressão de seu supervisor para o atingimento das metas, Ronaldo decidiu se preparar para melhor atender os clientes a fim de converter o maior número possível de vendas.\n",
        "\n",
        "Com as características que conseguia acesso sobre os clientes, Ronaldo visava entender cada perfil para saber qual melhor estratégia de discurso adotar e concretizar sua venda.\n",
        "\n",
        "Para isso, Ronaldo criou um modelo de Classificação para estimar a chance de um cliente comprar um carro com base nas características que ele possuía."
      ],
      "metadata": {
        "id": "gJqC3a3uo1tW"
      }
    },
    {
      "cell_type": "markdown",
      "source": [
        "O dataset é composto de 1000 registros e 5 colunas, sendo elas:\n",
        "\n",
        "- User ID\n",
        "- Gender (\"maculino\" ou \"feminino\")\n",
        "- Age\n",
        "- AnnualSalary\n",
        "- Purchased (dado se decidiu ou não comprar, sendo 1 para \"sim\" e 0 para \"não\"."
      ],
      "metadata": {
        "id": "7ITKG9yJ637I"
      }
    },
    {
      "cell_type": "markdown",
      "source": [
        "## 1 - Importação Bibliotecas"
      ],
      "metadata": {
        "id": "66QYkibc_jSI"
      }
    },
    {
      "cell_type": "code",
      "source": [
        "# configuração para não exibir os warnings\n",
        "import warnings\n",
        "warnings.filterwarnings(\"ignore\")\n",
        "\n",
        "# Imports necessários\n",
        "import pandas as pd\n",
        "import numpy as np\n",
        "import matplotlib.pyplot as plt\n",
        "from sklearn.preprocessing import StandardScaler      ## Para padronizar os atributos\n",
        "from sklearn.preprocessing import MinMaxScaler        ## Para normalizar os atributos\n",
        "from sklearn import preprocessing                     ## Transformar o atributo \"Sexo\" em 0 e 1\n",
        "from sklearn.model_selection import train_test_split\n",
        "from sklearn.model_selection import KFold             ## validação cruzada entre os subconjuntos criados para entender como o modelo generaliza\n",
        "from sklearn.model_selection import StratifiedKFold\n",
        "from sklearn.model_selection import cross_val_score   ## validação cruzada retornando uma lista com a acurácia dos testes, métrica utilizada nesse modelo\n",
        "from sklearn.model_selection import GridSearchCV\n",
        "from sklearn.linear_model import LogisticRegression\n",
        "from sklearn.metrics import accuracy_score\n",
        "from sklearn.metrics import confusion_matrix\n",
        "from sklearn.pipeline import Pipeline\n",
        "from sklearn.tree import DecisionTreeClassifier\n",
        "from sklearn.neighbors import KNeighborsClassifier\n",
        "from sklearn.naive_bayes import GaussianNB\n",
        "from sklearn.svm import SVC\n",
        "from sklearn.ensemble import BaggingClassifier\n",
        "from sklearn.ensemble import RandomForestClassifier\n",
        "from sklearn.ensemble import ExtraTreesClassifier\n",
        "from sklearn.ensemble import VotingClassifier\n",
        "from sklearn.ensemble import AdaBoostClassifier\n",
        "from sklearn.ensemble import GradientBoostingClassifier\n",
        "\n",
        "from sklearn.feature_selection import SelectKBest # para a Seleção Univariada\n",
        "from sklearn.feature_selection import f_classif # para o teste ANOVA da Seleção Univariada\n",
        "from sklearn.feature_selection import RFE # para a Eliminação Recursiva de Atributos\n",
        "from sklearn.linear_model import LogisticRegression # Regressão Logística, para a Eliminação Recursiva de Atributos"
      ],
      "metadata": {
        "id": "r-uwJgPH7OZW"
      },
      "execution_count": null,
      "outputs": []
    },
    {
      "cell_type": "markdown",
      "source": [
        "## 2 - Carga do Dataset e Tratamentos Básicos"
      ],
      "metadata": {
        "id": "PpbGlDYE_0QM"
      }
    },
    {
      "cell_type": "code",
      "source": [
        "# Informa a URL de importação do dataset\n",
        "url = \"https://raw.githubusercontent.com/bernardowenzel/MVP_SPRINT_1/main/car_data.csv\"\n",
        "\n",
        "# Lê o arquivo\n",
        "dataset = pd.read_csv(url, delimiter=',')\n",
        "\n",
        "# Mostra as primeiras linhas do dataset\n",
        "dataset.head()"
      ],
      "metadata": {
        "colab": {
          "base_uri": "https://localhost:8080/",
          "height": 206
        },
        "id": "w5DWl0g9_2Mf",
        "outputId": "31d74b60-5ae2-46bf-8dc4-bd68e7eb3663"
      },
      "execution_count": null,
      "outputs": [
        {
          "output_type": "execute_result",
          "data": {
            "text/plain": [
              "   User ID Gender  Age  AnnualSalary  Purchased\n",
              "0      385   Male   35         20000          0\n",
              "1      681   Male   40         43500          0\n",
              "2      353   Male   49         74000          0\n",
              "3      895   Male   40        107500          1\n",
              "4      661   Male   25         79000          0"
            ],
            "text/html": [
              "\n",
              "  <div id=\"df-28290214-6d2b-4346-8fce-09f0f3d6c203\">\n",
              "    <div class=\"colab-df-container\">\n",
              "      <div>\n",
              "<style scoped>\n",
              "    .dataframe tbody tr th:only-of-type {\n",
              "        vertical-align: middle;\n",
              "    }\n",
              "\n",
              "    .dataframe tbody tr th {\n",
              "        vertical-align: top;\n",
              "    }\n",
              "\n",
              "    .dataframe thead th {\n",
              "        text-align: right;\n",
              "    }\n",
              "</style>\n",
              "<table border=\"1\" class=\"dataframe\">\n",
              "  <thead>\n",
              "    <tr style=\"text-align: right;\">\n",
              "      <th></th>\n",
              "      <th>User ID</th>\n",
              "      <th>Gender</th>\n",
              "      <th>Age</th>\n",
              "      <th>AnnualSalary</th>\n",
              "      <th>Purchased</th>\n",
              "    </tr>\n",
              "  </thead>\n",
              "  <tbody>\n",
              "    <tr>\n",
              "      <th>0</th>\n",
              "      <td>385</td>\n",
              "      <td>Male</td>\n",
              "      <td>35</td>\n",
              "      <td>20000</td>\n",
              "      <td>0</td>\n",
              "    </tr>\n",
              "    <tr>\n",
              "      <th>1</th>\n",
              "      <td>681</td>\n",
              "      <td>Male</td>\n",
              "      <td>40</td>\n",
              "      <td>43500</td>\n",
              "      <td>0</td>\n",
              "    </tr>\n",
              "    <tr>\n",
              "      <th>2</th>\n",
              "      <td>353</td>\n",
              "      <td>Male</td>\n",
              "      <td>49</td>\n",
              "      <td>74000</td>\n",
              "      <td>0</td>\n",
              "    </tr>\n",
              "    <tr>\n",
              "      <th>3</th>\n",
              "      <td>895</td>\n",
              "      <td>Male</td>\n",
              "      <td>40</td>\n",
              "      <td>107500</td>\n",
              "      <td>1</td>\n",
              "    </tr>\n",
              "    <tr>\n",
              "      <th>4</th>\n",
              "      <td>661</td>\n",
              "      <td>Male</td>\n",
              "      <td>25</td>\n",
              "      <td>79000</td>\n",
              "      <td>0</td>\n",
              "    </tr>\n",
              "  </tbody>\n",
              "</table>\n",
              "</div>\n",
              "      <button class=\"colab-df-convert\" onclick=\"convertToInteractive('df-28290214-6d2b-4346-8fce-09f0f3d6c203')\"\n",
              "              title=\"Convert this dataframe to an interactive table.\"\n",
              "              style=\"display:none;\">\n",
              "        \n",
              "  <svg xmlns=\"http://www.w3.org/2000/svg\" height=\"24px\"viewBox=\"0 0 24 24\"\n",
              "       width=\"24px\">\n",
              "    <path d=\"M0 0h24v24H0V0z\" fill=\"none\"/>\n",
              "    <path d=\"M18.56 5.44l.94 2.06.94-2.06 2.06-.94-2.06-.94-.94-2.06-.94 2.06-2.06.94zm-11 1L8.5 8.5l.94-2.06 2.06-.94-2.06-.94L8.5 2.5l-.94 2.06-2.06.94zm10 10l.94 2.06.94-2.06 2.06-.94-2.06-.94-.94-2.06-.94 2.06-2.06.94z\"/><path d=\"M17.41 7.96l-1.37-1.37c-.4-.4-.92-.59-1.43-.59-.52 0-1.04.2-1.43.59L10.3 9.45l-7.72 7.72c-.78.78-.78 2.05 0 2.83L4 21.41c.39.39.9.59 1.41.59.51 0 1.02-.2 1.41-.59l7.78-7.78 2.81-2.81c.8-.78.8-2.07 0-2.86zM5.41 20L4 18.59l7.72-7.72 1.47 1.35L5.41 20z\"/>\n",
              "  </svg>\n",
              "      </button>\n",
              "      \n",
              "  <style>\n",
              "    .colab-df-container {\n",
              "      display:flex;\n",
              "      flex-wrap:wrap;\n",
              "      gap: 12px;\n",
              "    }\n",
              "\n",
              "    .colab-df-convert {\n",
              "      background-color: #E8F0FE;\n",
              "      border: none;\n",
              "      border-radius: 50%;\n",
              "      cursor: pointer;\n",
              "      display: none;\n",
              "      fill: #1967D2;\n",
              "      height: 32px;\n",
              "      padding: 0 0 0 0;\n",
              "      width: 32px;\n",
              "    }\n",
              "\n",
              "    .colab-df-convert:hover {\n",
              "      background-color: #E2EBFA;\n",
              "      box-shadow: 0px 1px 2px rgba(60, 64, 67, 0.3), 0px 1px 3px 1px rgba(60, 64, 67, 0.15);\n",
              "      fill: #174EA6;\n",
              "    }\n",
              "\n",
              "    [theme=dark] .colab-df-convert {\n",
              "      background-color: #3B4455;\n",
              "      fill: #D2E3FC;\n",
              "    }\n",
              "\n",
              "    [theme=dark] .colab-df-convert:hover {\n",
              "      background-color: #434B5C;\n",
              "      box-shadow: 0px 1px 3px 1px rgba(0, 0, 0, 0.15);\n",
              "      filter: drop-shadow(0px 1px 2px rgba(0, 0, 0, 0.3));\n",
              "      fill: #FFFFFF;\n",
              "    }\n",
              "  </style>\n",
              "\n",
              "      <script>\n",
              "        const buttonEl =\n",
              "          document.querySelector('#df-28290214-6d2b-4346-8fce-09f0f3d6c203 button.colab-df-convert');\n",
              "        buttonEl.style.display =\n",
              "          google.colab.kernel.accessAllowed ? 'block' : 'none';\n",
              "\n",
              "        async function convertToInteractive(key) {\n",
              "          const element = document.querySelector('#df-28290214-6d2b-4346-8fce-09f0f3d6c203');\n",
              "          const dataTable =\n",
              "            await google.colab.kernel.invokeFunction('convertToInteractive',\n",
              "                                                     [key], {});\n",
              "          if (!dataTable) return;\n",
              "\n",
              "          const docLinkHtml = 'Like what you see? Visit the ' +\n",
              "            '<a target=\"_blank\" href=https://colab.research.google.com/notebooks/data_table.ipynb>data table notebook</a>'\n",
              "            + ' to learn more about interactive tables.';\n",
              "          element.innerHTML = '';\n",
              "          dataTable['output_type'] = 'display_data';\n",
              "          await google.colab.output.renderOutput(dataTable, element);\n",
              "          const docLink = document.createElement('div');\n",
              "          docLink.innerHTML = docLinkHtml;\n",
              "          element.appendChild(docLink);\n",
              "        }\n",
              "      </script>\n",
              "    </div>\n",
              "  </div>\n",
              "  "
            ]
          },
          "metadata": {},
          "execution_count": 182
        }
      ]
    },
    {
      "cell_type": "code",
      "source": [
        "# Verificando se possui algum campo com dados nulos\n",
        "dataset.isnull().any()"
      ],
      "metadata": {
        "colab": {
          "base_uri": "https://localhost:8080/"
        },
        "id": "EcJlEcs5EXlc",
        "outputId": "ed719fda-a2b0-465b-c4e3-7f16c19a5a57"
      },
      "execution_count": null,
      "outputs": [
        {
          "output_type": "execute_result",
          "data": {
            "text/plain": [
              "User ID         False\n",
              "Gender          False\n",
              "Age             False\n",
              "AnnualSalary    False\n",
              "Purchased       False\n",
              "dtype: bool"
            ]
          },
          "metadata": {},
          "execution_count": 183
        }
      ]
    },
    {
      "cell_type": "code",
      "source": [
        "# Alterando nome das colunas para versão traduzida\n",
        "dfclientes = dataset.rename(columns={'User ID': 'ID_Cliente',\n",
        "                                     'Gender': 'Sexo',\n",
        "                                     'Age': 'Idade',\n",
        "                                     'AnnualSalary': 'Salario_Anual',\n",
        "                                     'Purchased': 'Flag_Comprou'})\n",
        "\n",
        "df = pd.DataFrame(dfclientes)\n",
        "print(df)"
      ],
      "metadata": {
        "colab": {
          "base_uri": "https://localhost:8080/"
        },
        "id": "TH_CnAOXE6S6",
        "outputId": "921eb099-8e86-461c-af5e-d60c9c024573"
      },
      "execution_count": null,
      "outputs": [
        {
          "output_type": "stream",
          "name": "stdout",
          "text": [
            "     ID_Cliente    Sexo  Idade  Salario_Anual  Flag_Comprou\n",
            "0           385    Male     35          20000             0\n",
            "1           681    Male     40          43500             0\n",
            "2           353    Male     49          74000             0\n",
            "3           895    Male     40         107500             1\n",
            "4           661    Male     25          79000             0\n",
            "..          ...     ...    ...            ...           ...\n",
            "995         863    Male     38          59000             0\n",
            "996         800  Female     47          23500             0\n",
            "997         407  Female     28         138500             1\n",
            "998         299  Female     48         134000             1\n",
            "999         687  Female     44          73500             0\n",
            "\n",
            "[1000 rows x 5 columns]\n"
          ]
        }
      ]
    },
    {
      "cell_type": "code",
      "source": [
        "# Transformando dados do campo \"Sexo\" em binário, onde 1 = Masculino e 0 igual a Feminino\n",
        "df['Sexo'] = df['Sexo'].replace({'Male' : '1',\n",
        "                                 'Female': '0'}, regex=True)\n",
        "\n",
        "# Convertendo o formato da coluna Sexo de object para int\n",
        "df['Sexo'] = df['Sexo'].astype(int)\n",
        "\n",
        "print(df)\n",
        "\n",
        "df.info()"
      ],
      "metadata": {
        "colab": {
          "base_uri": "https://localhost:8080/"
        },
        "id": "Ah1_Ol6cHfa4",
        "outputId": "c844aad2-73be-4ea8-aaa5-98b8a6150933"
      },
      "execution_count": null,
      "outputs": [
        {
          "output_type": "stream",
          "name": "stdout",
          "text": [
            "     ID_Cliente  Sexo  Idade  Salario_Anual  Flag_Comprou\n",
            "0           385     1     35          20000             0\n",
            "1           681     1     40          43500             0\n",
            "2           353     1     49          74000             0\n",
            "3           895     1     40         107500             1\n",
            "4           661     1     25          79000             0\n",
            "..          ...   ...    ...            ...           ...\n",
            "995         863     1     38          59000             0\n",
            "996         800     0     47          23500             0\n",
            "997         407     0     28         138500             1\n",
            "998         299     0     48         134000             1\n",
            "999         687     0     44          73500             0\n",
            "\n",
            "[1000 rows x 5 columns]\n",
            "<class 'pandas.core.frame.DataFrame'>\n",
            "RangeIndex: 1000 entries, 0 to 999\n",
            "Data columns (total 5 columns):\n",
            " #   Column         Non-Null Count  Dtype\n",
            "---  ------         --------------  -----\n",
            " 0   ID_Cliente     1000 non-null   int64\n",
            " 1   Sexo           1000 non-null   int64\n",
            " 2   Idade          1000 non-null   int64\n",
            " 3   Salario_Anual  1000 non-null   int64\n",
            " 4   Flag_Comprou   1000 non-null   int64\n",
            "dtypes: int64(5)\n",
            "memory usage: 39.2 KB\n"
          ]
        }
      ]
    },
    {
      "cell_type": "markdown",
      "source": [
        "## 3 - Análise Exploratória Breve dos Dados"
      ],
      "metadata": {
        "id": "isqJVJ2yKhdD"
      }
    },
    {
      "cell_type": "code",
      "source": [
        "# Criando gráfico de barras\n",
        "df.Flag_Comprou.value_counts().plot(kind = 'barh')\n",
        "\n",
        "# Contagem dos registros para plotar como rótulo de dados\n",
        "contagem = df.Flag_Comprou.value_counts()\n",
        "\n",
        "# Incluindo rótulos de dados no gráfico\n",
        "for i, v in enumerate(contagem):\n",
        "    plt.text(v, i, str(v))\n",
        "\n",
        "# Exibir o gráfico\n",
        "plt.show()"
      ],
      "metadata": {
        "colab": {
          "base_uri": "https://localhost:8080/",
          "height": 430
        },
        "id": "prh1KzP6KvOk",
        "outputId": "2732f98e-2262-48a1-81c0-6e95bc71678d"
      },
      "execution_count": null,
      "outputs": [
        {
          "output_type": "display_data",
          "data": {
            "text/plain": [
              "<Figure size 640x480 with 1 Axes>"
            ],
            "image/png": "[encoded data removed]"
          },
          "metadata": {}
        }
      ]
    },
    {
      "cell_type": "code",
      "source": [
        "# Gerando dataframe com indicadores básicos através do recurso 'describe()'\n",
        "df.describe()"
      ],
      "metadata": {
        "colab": {
          "base_uri": "https://localhost:8080/",
          "height": 300
        },
        "id": "ajq0dZ4YMm14",
        "outputId": "c797363a-e1a0-4318-81da-efb9adcd5b13"
      },
      "execution_count": null,
      "outputs": [
        {
          "output_type": "execute_result",
          "data": {
            "text/plain": [
              "        ID_Cliente         Sexo        Idade  Salario_Anual  Flag_Comprou\n",
              "count  1000.000000  1000.000000  1000.000000    1000.000000   1000.000000\n",
              "mean    500.500000     0.484000    40.106000   72689.000000      0.402000\n",
              "std     288.819436     0.499994    10.707073   34488.341867      0.490547\n",
              "min       1.000000     0.000000    18.000000   15000.000000      0.000000\n",
              "25%     250.750000     0.000000    32.000000   46375.000000      0.000000\n",
              "50%     500.500000     0.000000    40.000000   72000.000000      0.000000\n",
              "75%     750.250000     1.000000    48.000000   90000.000000      1.000000\n",
              "max    1000.000000     1.000000    63.000000  152500.000000      1.000000"
            ],
            "text/html": [
              "\n",
              "  <div id=\"df-5027af16-1329-48c3-b137-573f64332416\">\n",
              "    <div class=\"colab-df-container\">\n",
              "      <div>\n",
              "<style scoped>\n",
              "    .dataframe tbody tr th:only-of-type {\n",
              "        vertical-align: middle;\n",
              "    }\n",
              "\n",
              "    .dataframe tbody tr th {\n",
              "        vertical-align: top;\n",
              "    }\n",
              "\n",
              "    .dataframe thead th {\n",
              "        text-align: right;\n",
              "    }\n",
              "</style>\n",
              "<table border=\"1\" class=\"dataframe\">\n",
              "  <thead>\n",
              "    <tr style=\"text-align: right;\">\n",
              "      <th></th>\n",
              "      <th>ID_Cliente</th>\n",
              "      <th>Sexo</th>\n",
              "      <th>Idade</th>\n",
              "      <th>Salario_Anual</th>\n",
              "      <th>Flag_Comprou</th>\n",
              "    </tr>\n",
              "  </thead>\n",
              "  <tbody>\n",
              "    <tr>\n",
              "      <th>count</th>\n",
              "      <td>1000.000000</td>\n",
              "      <td>1000.000000</td>\n",
              "      <td>1000.000000</td>\n",
              "      <td>1000.000000</td>\n",
              "      <td>1000.000000</td>\n",
              "    </tr>\n",
              "    <tr>\n",
              "      <th>mean</th>\n",
              "      <td>500.500000</td>\n",
              "      <td>0.484000</td>\n",
              "      <td>40.106000</td>\n",
              "      <td>72689.000000</td>\n",
              "      <td>0.402000</td>\n",
              "    </tr>\n",
              "    <tr>\n",
              "      <th>std</th>\n",
              "      <td>288.819436</td>\n",
              "      <td>0.499994</td>\n",
              "      <td>10.707073</td>\n",
              "      <td>34488.341867</td>\n",
              "      <td>0.490547</td>\n",
              "    </tr>\n",
              "    <tr>\n",
              "      <th>min</th>\n",
              "      <td>1.000000</td>\n",
              "      <td>0.000000</td>\n",
              "      <td>18.000000</td>\n",
              "      <td>15000.000000</td>\n",
              "      <td>0.000000</td>\n",
              "    </tr>\n",
              "    <tr>\n",
              "      <th>25%</th>\n",
              "      <td>250.750000</td>\n",
              "      <td>0.000000</td>\n",
              "      <td>32.000000</td>\n",
              "      <td>46375.000000</td>\n",
              "      <td>0.000000</td>\n",
              "    </tr>\n",
              "    <tr>\n",
              "      <th>50%</th>\n",
              "      <td>500.500000</td>\n",
              "      <td>0.000000</td>\n",
              "      <td>40.000000</td>\n",
              "      <td>72000.000000</td>\n",
              "      <td>0.000000</td>\n",
              "    </tr>\n",
              "    <tr>\n",
              "      <th>75%</th>\n",
              "      <td>750.250000</td>\n",
              "      <td>1.000000</td>\n",
              "      <td>48.000000</td>\n",
              "      <td>90000.000000</td>\n",
              "      <td>1.000000</td>\n",
              "    </tr>\n",
              "    <tr>\n",
              "      <th>max</th>\n",
              "      <td>1000.000000</td>\n",
              "      <td>1.000000</td>\n",
              "      <td>63.000000</td>\n",
              "      <td>152500.000000</td>\n",
              "      <td>1.000000</td>\n",
              "    </tr>\n",
              "  </tbody>\n",
              "</table>\n",
              "</div>\n",
              "      <button class=\"colab-df-convert\" onclick=\"convertToInteractive('df-5027af16-1329-48c3-b137-573f64332416')\"\n",
              "              title=\"Convert this dataframe to an interactive table.\"\n",
              "              style=\"display:none;\">\n",
              "        \n",
              "  <svg xmlns=\"http://www.w3.org/2000/svg\" height=\"24px\"viewBox=\"0 0 24 24\"\n",
              "       width=\"24px\">\n",
              "    <path d=\"M0 0h24v24H0V0z\" fill=\"none\"/>\n",
              "    <path d=\"M18.56 5.44l.94 2.06.94-2.06 2.06-.94-2.06-.94-.94-2.06-.94 2.06-2.06.94zm-11 1L8.5 8.5l.94-2.06 2.06-.94-2.06-.94L8.5 2.5l-.94 2.06-2.06.94zm10 10l.94 2.06.94-2.06 2.06-.94-2.06-.94-.94-2.06-.94 2.06-2.06.94z\"/><path d=\"M17.41 7.96l-1.37-1.37c-.4-.4-.92-.59-1.43-.59-.52 0-1.04.2-1.43.59L10.3 9.45l-7.72 7.72c-.78.78-.78 2.05 0 2.83L4 21.41c.39.39.9.59 1.41.59.51 0 1.02-.2 1.41-.59l7.78-7.78 2.81-2.81c.8-.78.8-2.07 0-2.86zM5.41 20L4 18.59l7.72-7.72 1.47 1.35L5.41 20z\"/>\n",
              "  </svg>\n",
              "      </button>\n",
              "      \n",
              "  <style>\n",
              "    .colab-df-container {\n",
              "      display:flex;\n",
              "      flex-wrap:wrap;\n",
              "      gap: 12px;\n",
              "    }\n",
              "\n",
              "    .colab-df-convert {\n",
              "      background-color: #E8F0FE;\n",
              "      border: none;\n",
              "      border-radius: 50%;\n",
              "      cursor: pointer;\n",
              "      display: none;\n",
              "      fill: #1967D2;\n",
              "      height: 32px;\n",
              "      padding: 0 0 0 0;\n",
              "      width: 32px;\n",
              "    }\n",
              "\n",
              "    .colab-df-convert:hover {\n",
              "      background-color: #E2EBFA;\n",
              "      box-shadow: 0px 1px 2px rgba(60, 64, 67, 0.3), 0px 1px 3px 1px rgba(60, 64, 67, 0.15);\n",
              "      fill: #174EA6;\n",
              "    }\n",
              "\n",
              "    [theme=dark] .colab-df-convert {\n",
              "      background-color: #3B4455;\n",
              "      fill: #D2E3FC;\n",
              "    }\n",
              "\n",
              "    [theme=dark] .colab-df-convert:hover {\n",
              "      background-color: #434B5C;\n",
              "      box-shadow: 0px 1px 3px 1px rgba(0, 0, 0, 0.15);\n",
              "      filter: drop-shadow(0px 1px 2px rgba(0, 0, 0, 0.3));\n",
              "      fill: #FFFFFF;\n",
              "    }\n",
              "  </style>\n",
              "\n",
              "      <script>\n",
              "        const buttonEl =\n",
              "          document.querySelector('#df-5027af16-1329-48c3-b137-573f64332416 button.colab-df-convert');\n",
              "        buttonEl.style.display =\n",
              "          google.colab.kernel.accessAllowed ? 'block' : 'none';\n",
              "\n",
              "        async function convertToInteractive(key) {\n",
              "          const element = document.querySelector('#df-5027af16-1329-48c3-b137-573f64332416');\n",
              "          const dataTable =\n",
              "            await google.colab.kernel.invokeFunction('convertToInteractive',\n",
              "                                                     [key], {});\n",
              "          if (!dataTable) return;\n",
              "\n",
              "          const docLinkHtml = 'Like what you see? Visit the ' +\n",
              "            '<a target=\"_blank\" href=https://colab.research.google.com/notebooks/data_table.ipynb>data table notebook</a>'\n",
              "            + ' to learn more about interactive tables.';\n",
              "          element.innerHTML = '';\n",
              "          dataTable['output_type'] = 'display_data';\n",
              "          await google.colab.output.renderOutput(dataTable, element);\n",
              "          const docLink = document.createElement('div');\n",
              "          docLink.innerHTML = docLinkHtml;\n",
              "          element.appendChild(docLink);\n",
              "        }\n",
              "      </script>\n",
              "    </div>\n",
              "  </div>\n",
              "  "
            ]
          },
          "metadata": {},
          "execution_count": 187
        }
      ]
    },
    {
      "cell_type": "code",
      "source": [
        "# Criando uma matriz para visualizar quantidade de registros de compra por sexo\n",
        "matrix = pd.pivot_table(df, index='Sexo', columns='Flag_Comprou', aggfunc='size', fill_value=0)\n",
        "\n",
        "# Calcular a média e a mediana do salário anual por sexo\n",
        "salario_media = df.groupby('Sexo')['Salario_Anual'].mean().round(2)\n",
        "salario_mediana = df.groupby('Sexo')['Salario_Anual'].median().round(2)\n",
        "\n",
        "# Adicionando a média e mediana na matriz\n",
        "matrix['Salario Média'] = salario_media\n",
        "matrix['Salario Mediana'] = salario_mediana\n",
        "\n",
        "# Exibir a matriz\n",
        "print(matrix)"
      ],
      "metadata": {
        "colab": {
          "base_uri": "https://localhost:8080/"
        },
        "id": "NSv3iYf7J6f4",
        "outputId": "9c2fc127-7af4-4348-a4a1-52369e5d1d58"
      },
      "execution_count": null,
      "outputs": [
        {
          "output_type": "stream",
          "name": "stdout",
          "text": [
            "Flag_Comprou    0    1  Salario Média  Salario Mediana\n",
            "Sexo                                                  \n",
            "0             297  219       74802.33          72250.0\n",
            "1             301  183       70435.95          71500.0\n"
          ]
        }
      ]
    },
    {
      "cell_type": "markdown",
      "source": [
        "## 4 - Separação em conjunto de treino e conjunto de teste com holdout"
      ],
      "metadata": {
        "id": "9VVXRJZI6ugy"
      }
    },
    {
      "cell_type": "code",
      "source": [
        "# eliminando id para não interferir no modelo\n",
        "df = df.drop('ID_Cliente', axis = 1)\n",
        "\n",
        "test_size = 0.20 # tamanho do conjunto de teste\n",
        "seed = 7 # semente aleatória\n",
        "\n",
        "# Separação em conjuntos de treino e teste\n",
        "array = df.values\n",
        "X = array[:,0:3]\n",
        "y = array[:,3]\n",
        "\n",
        "print(df)"
      ],
      "metadata": {
        "id": "Bx1uZwfU66EM",
        "colab": {
          "base_uri": "https://localhost:8080/"
        },
        "outputId": "0ceeb58e-66ed-4939-df70-e0afa36a4efe"
      },
      "execution_count": null,
      "outputs": [
        {
          "output_type": "stream",
          "name": "stdout",
          "text": [
            "     Sexo  Idade  Salario_Anual  Flag_Comprou\n",
            "0       1     35          20000             0\n",
            "1       1     40          43500             0\n",
            "2       1     49          74000             0\n",
            "3       1     40         107500             1\n",
            "4       1     25          79000             0\n",
            "..    ...    ...            ...           ...\n",
            "995     1     38          59000             0\n",
            "996     0     47          23500             0\n",
            "997     0     28         138500             1\n",
            "998     0     48         134000             1\n",
            "999     0     44          73500             0\n",
            "\n",
            "[1000 rows x 4 columns]\n"
          ]
        }
      ]
    },
    {
      "cell_type": "code",
      "source": [
        "X_train, X_test, y_train, y_test = train_test_split(X, y,\n",
        "    test_size=test_size, shuffle=True, random_state=seed, stratify=y) # holdout com estratificação\n",
        "\n",
        "# Parâmetros e partições da validação cruzada\n",
        "scoring = 'accuracy'\n",
        "num_particoes = 10\n",
        "kfold = StratifiedKFold(n_splits=num_particoes, shuffle=True, random_state=seed) # validação cruzada com estratificação\n"
      ],
      "metadata": {
        "id": "84pKK7vTQqaV"
      },
      "execution_count": null,
      "outputs": []
    },
    {
      "cell_type": "markdown",
      "source": [
        "## 5 - Criação e Avaliação de Modelos"
      ],
      "metadata": {
        "id": "rwqJ1GxaC6iJ"
      }
    },
    {
      "cell_type": "code",
      "source": [
        "np.random.seed(7) # definindo uma semente global\n",
        "\n",
        "# Lista que armazenará os modelos\n",
        "models = []\n",
        "\n",
        "# Criando os modelos e adicionando-os na lista de modelos\n",
        "models.append(('LR', LogisticRegression(max_iter=200)))\n",
        "models.append(('KNN', KNeighborsClassifier()))\n",
        "models.append(('CART', DecisionTreeClassifier()))\n",
        "models.append(('NB', GaussianNB()))\n",
        "models.append(('SVM', SVC()))\n",
        "\n",
        "# Definindo os parâmetros do classificador base para o BaggingClassifier\n",
        "base = DecisionTreeClassifier()\n",
        "num_trees = 100\n",
        "max_features = 3\n",
        "\n",
        "# Criando os modelos para o VotingClassifier\n",
        "bases = []\n",
        "model1 = LogisticRegression(max_iter=200)\n",
        "bases.append(('logistic', model1))\n",
        "model2 = DecisionTreeClassifier()\n",
        "bases.append(('cart', model2))\n",
        "model3 = SVC()\n",
        "bases.append(('svm', model3))\n",
        "\n",
        "# Criando os ensembles e adicionando-os na lista de modelos\n",
        "models.append(('Bagging', BaggingClassifier(base_estimator=base, n_estimators=num_trees)))\n",
        "models.append(('RF', RandomForestClassifier(n_estimators=num_trees, max_features=max_features)))\n",
        "models.append(('ET', ExtraTreesClassifier(n_estimators=num_trees, max_features=max_features)))\n",
        "models.append(('Ada', AdaBoostClassifier(n_estimators=num_trees)))\n",
        "models.append(('GB', GradientBoostingClassifier(n_estimators=num_trees)))\n",
        "models.append(('Voting', VotingClassifier(bases)))\n",
        "\n",
        "# Listas para armazenar os resultados\n",
        "results = []\n",
        "names = []\n",
        "\n",
        "# Avaliação dos modelos\n",
        "for name, model in models:\n",
        "    cv_results = cross_val_score(model, X_train, y_train, cv=kfold, scoring=scoring)\n",
        "    results.append(cv_results)\n",
        "    names.append(name)\n",
        "    msg = \"%s: %f (%f)\" % (name, cv_results.mean(), cv_results.std())\n",
        "    print(msg)\n",
        "\n",
        "# Boxplot de comparação dos modelos\n",
        "fig = plt.figure(figsize=(15,10))\n",
        "fig.suptitle('Comparação dos Modelos')\n",
        "ax = fig.add_subplot(111)\n",
        "plt.boxplot(results)\n",
        "ax.set_xticklabels(names)\n",
        "plt.show()"
      ],
      "metadata": {
        "colab": {
          "base_uri": "https://localhost:8080/"
        },
        "id": "kWEiCgjlC-yR",
        "outputId": "8a4c1cb0-511e-4a3a-a867-43baffe55089"
      },
      "execution_count": null,
      "outputs": [
        {
          "output_type": "stream",
          "name": "stdout",
          "text": [
            "LR: 0.600000 (0.026220)\n",
            "KNN: 0.815000 (0.031024)\n",
            "CART: 0.887500 (0.034911)\n",
            "NB: 0.885000 (0.027839)\n",
            "SVM: 0.753750 (0.028532)\n",
            "Bagging: 0.917500 (0.029155)\n",
            "RF: 0.911250 (0.032331)\n",
            "ET: 0.903750 (0.034483)\n",
            "Ada: 0.890000 (0.028395)\n",
            "GB: 0.912500 (0.036228)\n",
            "Voting: 0.743750 (0.028641)\n"
          ]
        },
        {
          "output_type": "display_data",
          "data": {
            "text/plain": [
              "<Figure size 1500x1000 with 1 Axes>"
            ],
            "image/png": "[encoded data removed]"
          },
          "metadata": {}
        }
      ]
    },
    {
      "cell_type": "markdown",
      "source": [
        "Pode-se reparar que nessa etapa o melhor modelo é o Bagging"
      ],
      "metadata": {
        "id": "EYxmSF6MqCL9"
      }
    },
    {
      "cell_type": "markdown",
      "source": [
        "## 6 - Criação e avaliação de modelos: dados padronizados e normalizados"
      ],
      "metadata": {
        "id": "FdEaEYcuJ4jS"
      }
    },
    {
      "cell_type": "code",
      "source": [
        "np.random.seed(7) # semente global\n",
        "\n",
        "# Listas para armazenar os armazenar os pipelines e os resultados para todas as visões do dataset\n",
        "pipelines = []\n",
        "results = []\n",
        "names = []\n",
        "\n",
        "\n",
        "# Criando os elementos do pipeline\n",
        "\n",
        "# Algoritmos que serão utilizados\n",
        "reg_log = ('LR', LogisticRegression(max_iter=200))\n",
        "knn = ('KNN', KNeighborsClassifier())\n",
        "cart = ('CART', DecisionTreeClassifier())\n",
        "naive_bayes = ('NB', GaussianNB())\n",
        "svm = ('SVM', SVC())\n",
        "bagging = ('Bag', BaggingClassifier(base_estimator=base, n_estimators=num_trees))\n",
        "random_forest = ('RF', RandomForestClassifier(n_estimators=num_trees, max_features=max_features))\n",
        "extra_trees = ('ET', ExtraTreesClassifier(n_estimators=num_trees, max_features=max_features))\n",
        "adaboost = ('Ada', AdaBoostClassifier(n_estimators=num_trees))\n",
        "gradient_boosting = ('GB', GradientBoostingClassifier(n_estimators=num_trees))\n",
        "voting = ('Voting', VotingClassifier(bases))\n",
        "\n",
        "# Transformações que serão utilizadas\n",
        "standard_scaler = ('StandardScaler', StandardScaler())\n",
        "min_max_scaler = ('MinMaxScaler', MinMaxScaler())\n",
        "\n",
        "\n",
        "# Montando os pipelines\n",
        "\n",
        "# Dataset original\n",
        "pipelines.append(('LR-orig', Pipeline([reg_log])))\n",
        "pipelines.append(('KNN-orig', Pipeline([knn])))\n",
        "pipelines.append(('CART-orig', Pipeline([cart])))\n",
        "pipelines.append(('NB-orig', Pipeline([naive_bayes])))\n",
        "pipelines.append(('SVM-orig', Pipeline([svm])))\n",
        "pipelines.append(('Bag-orig', Pipeline([bagging])))\n",
        "pipelines.append(('RF-orig', Pipeline([random_forest])))\n",
        "pipelines.append(('ET-orig', Pipeline([extra_trees])))\n",
        "pipelines.append(('Ada-orig', Pipeline([adaboost])))\n",
        "pipelines.append(('GB-orig', Pipeline([gradient_boosting])))\n",
        "pipelines.append(('Vot-orig', Pipeline([voting])))\n",
        "\n",
        "# Dataset Padronizado\n",
        "pipelines.append(('LR-padr', Pipeline([standard_scaler, reg_log])))\n",
        "pipelines.append(('KNN-padr', Pipeline([standard_scaler, knn])))\n",
        "pipelines.append(('CART-padr', Pipeline([standard_scaler, cart])))\n",
        "pipelines.append(('NB-padr', Pipeline([standard_scaler, naive_bayes])))\n",
        "pipelines.append(('SVM-padr', Pipeline([standard_scaler, svm])))\n",
        "pipelines.append(('Bag-padr', Pipeline([standard_scaler, bagging])))\n",
        "pipelines.append(('RF-padr', Pipeline([standard_scaler, random_forest])))\n",
        "pipelines.append(('ET-padr', Pipeline([standard_scaler, extra_trees])))\n",
        "pipelines.append(('Ada-padr', Pipeline([standard_scaler, adaboost])))\n",
        "pipelines.append(('GB-padr', Pipeline([standard_scaler, gradient_boosting])))\n",
        "pipelines.append(('Vot-padr', Pipeline([standard_scaler, voting])))\n",
        "\n",
        "# Dataset Normalizado\n",
        "pipelines.append(('LR-norm', Pipeline([min_max_scaler, reg_log])))\n",
        "pipelines.append(('KNN-norm', Pipeline([min_max_scaler, knn])))\n",
        "pipelines.append(('CART-norm', Pipeline([min_max_scaler, cart])))\n",
        "pipelines.append(('NB-norm', Pipeline([min_max_scaler, naive_bayes])))\n",
        "pipelines.append(('SVM-norm', Pipeline([min_max_scaler, svm])))\n",
        "pipelines.append(('Bag-norm', Pipeline([min_max_scaler, bagging])))\n",
        "pipelines.append(('RF-norm', Pipeline([min_max_scaler, random_forest])))\n",
        "pipelines.append(('ET-norm', Pipeline([min_max_scaler, extra_trees])))\n",
        "pipelines.append(('Ada-norm', Pipeline([min_max_scaler, adaboost])))\n",
        "pipelines.append(('GB-norm', Pipeline([min_max_scaler, gradient_boosting])))\n",
        "pipelines.append(('Vot-norm', Pipeline([min_max_scaler, voting])))\n",
        "\n",
        "# Executando os pipelines\n",
        "for name, model in pipelines:\n",
        "    cv_results = cross_val_score(model, X_train, y_train, cv=kfold, scoring=scoring)\n",
        "    results.append(cv_results)\n",
        "    names.append(name)\n",
        "    msg = \"%s: %.3f (%.3f)\" % (name, cv_results.mean(), cv_results.std()) # formatando para 3 casas decimais\n",
        "    print(msg)\n",
        "\n",
        "# Boxplot de comparação dos modelos\n",
        "fig = plt.figure(figsize=(25,6))\n",
        "fig.suptitle('Comparação dos Modelos - Dataset orginal, padronizado e normalizado')\n",
        "ax = fig.add_subplot(111)\n",
        "plt.boxplot(results)\n",
        "ax.set_xticklabels(names, rotation=90)\n",
        "plt.show()"
      ],
      "metadata": {
        "colab": {
          "base_uri": "https://localhost:8080/",
          "height": 887
        },
        "id": "_cyQjhEJE9s2",
        "outputId": "c76f43c4-41c4-4a1b-98b0-8315dd380052"
      },
      "execution_count": null,
      "outputs": [
        {
          "output_type": "stream",
          "name": "stdout",
          "text": [
            "LR-orig: 0.600 (0.026)\n",
            "KNN-orig: 0.815 (0.031)\n",
            "CART-orig: 0.887 (0.035)\n",
            "NB-orig: 0.885 (0.028)\n",
            "SVM-orig: 0.754 (0.029)\n",
            "Bag-orig: 0.918 (0.029)\n",
            "RF-orig: 0.911 (0.032)\n",
            "ET-orig: 0.904 (0.034)\n",
            "Ada-orig: 0.890 (0.028)\n",
            "GB-orig: 0.912 (0.036)\n",
            "Vot-orig: 0.744 (0.029)\n",
            "LR-padr: 0.828 (0.037)\n",
            "KNN-padr: 0.910 (0.037)\n",
            "CART-padr: 0.889 (0.029)\n",
            "NB-padr: 0.884 (0.032)\n",
            "SVM-padr: 0.901 (0.029)\n",
            "Bag-padr: 0.915 (0.033)\n",
            "RF-padr: 0.907 (0.037)\n",
            "ET-padr: 0.905 (0.040)\n",
            "Ada-padr: 0.890 (0.028)\n",
            "GB-padr: 0.912 (0.036)\n",
            "Vot-padr: 0.894 (0.031)\n",
            "LR-norm: 0.820 (0.037)\n",
            "KNN-norm: 0.911 (0.037)\n",
            "CART-norm: 0.891 (0.026)\n",
            "NB-norm: 0.884 (0.032)\n",
            "SVM-norm: 0.900 (0.034)\n",
            "Bag-norm: 0.911 (0.037)\n",
            "RF-norm: 0.915 (0.028)\n",
            "ET-norm: 0.903 (0.039)\n",
            "Ada-norm: 0.890 (0.028)\n",
            "GB-norm: 0.912 (0.036)\n",
            "Vot-norm: 0.892 (0.032)\n"
          ]
        },
        {
          "output_type": "display_data",
          "data": {
            "text/plain": [
              "<Figure size 2500x600 with 1 Axes>"
            ],
            "image/png": "[encoded data removed]"
          },
          "metadata": {}
        }
      ]
    },
    {
      "cell_type": "markdown",
      "source": [
        "Após a normalização e padronização, pode-se notar novamente que o melhor modelo continua sendo o Bagging, porém com os dados originais."
      ],
      "metadata": {
        "id": "pvmV5RwpqWKR"
      }
    },
    {
      "cell_type": "markdown",
      "source": [
        "## 7 - Otimização dos Hiperparâmetros"
      ],
      "metadata": {
        "id": "XZxl4lsGML8h"
      }
    },
    {
      "cell_type": "code",
      "source": [
        "# Tuning do Bagging\n",
        "\n",
        "np.random.seed(7) # definindo uma semente global para este bloco\n",
        "\n",
        "pipelines = []\n",
        "\n",
        "# Definindo os componentes do pipeline\n",
        "bagging =  BaggingClassifier()\n",
        "standard_scaler = ('StandardScaler', StandardScaler())\n",
        "min_max_scaler = ('MinMaxScaler', MinMaxScaler())\n",
        "\n",
        "pipelines.append(('Bag-orig', Pipeline(steps=[bagging])))\n",
        "pipelines.append(('Bag-padr', Pipeline(steps=[standard_scaler, bagging])))\n",
        "pipelines.append(('Bag-norm', Pipeline(steps=[min_max_scaler, bagging])))\n",
        "\n",
        "param_grid = {\n",
        "    'n_estimators': [30, 50, 70, 100, 110, 130],\n",
        "    'max_features': [3, 5, 7, 9, 11]\n",
        "}\n",
        "\n",
        "# Prepara e executa o GridSearchCV\n",
        "for name, model in pipelines:\n",
        "    grid = GridSearchCV(estimator=bagging, param_grid=param_grid, scoring=scoring, cv=kfold)\n",
        "    grid.fit(X_train, y_train)\n",
        "    # imprime a melhor configuração\n",
        "    print(\"Sem tratamento de missings: %s - Melhor: %f usando %s\" % (name, grid.best_score_, grid.best_params_))\n",
        "\n"
      ],
      "metadata": {
        "colab": {
          "base_uri": "https://localhost:8080/"
        },
        "id": "zgJmkCJ8JWU-",
        "outputId": "6cc9d320-53af-485f-8c4d-88f2d48fba5f"
      },
      "execution_count": null,
      "outputs": [
        {
          "output_type": "stream",
          "name": "stdout",
          "text": [
            "Sem tratamento de missings: Bag-orig - Melhor: 0.916250 usando {'max_features': 3, 'n_estimators': 50}\n",
            "Sem tratamento de missings: Bag-padr - Melhor: 0.920000 usando {'max_features': 3, 'n_estimators': 70}\n",
            "Sem tratamento de missings: Bag-norm - Melhor: 0.913750 usando {'max_features': 3, 'n_estimators': 50}\n"
          ]
        }
      ]
    },
    {
      "cell_type": "markdown",
      "source": [
        "Após a otimização, nota-se que o melhor modelo é o Bagging padronizado, contemplando 3 atributos e 70 classificadores base."
      ],
      "metadata": {
        "id": "Xaco3Euoqo0r"
      }
    },
    {
      "cell_type": "markdown",
      "source": [
        "## 8 - Avaliação do Modelo Aplicado (Matriz de Confusão)"
      ],
      "metadata": {
        "id": "L3wp493UskbG"
      }
    },
    {
      "cell_type": "code",
      "source": [
        "## Treinando para testar matriz de confusão\n",
        "\n",
        "bag_confusao = BaggingClassifier(base_estimator=base, n_estimators=num_trees)\n",
        "\n",
        "bag_confusao.fit(X_train, y_train)\n",
        "\n",
        "y_confusao_pred = bag_confusao.predict(X_test)"
      ],
      "metadata": {
        "id": "vn51jgy8r_SY"
      },
      "execution_count": null,
      "outputs": []
    },
    {
      "cell_type": "code",
      "source": [
        "\n",
        "from sklearn.metrics._plot.confusion_matrix import ConfusionMatrixDisplay\n",
        "import seaborn as sns\n",
        "from sklearn.metrics import classification_report\n",
        "\n",
        "confusao = confusion_matrix(y_test, y_confusao_pred)\n",
        "\n",
        "plt.figure(figsize=(4, 2))\n",
        "sns.heatmap(confusao, annot=True, cmap=\"Blues\", fmt=\"d\", cbar=True)\n",
        "plt.title(\"Matriz de Confusão\")\n",
        "plt.xlabel(\"Previsão\")\n",
        "plt.ylabel(\"Valor Real\")\n",
        "plt.show()\n",
        "\n",
        "classification_rep = classification_report(y_test, y_confusao_pred)\n",
        "\n",
        "print(classification_rep)"
      ],
      "metadata": {
        "colab": {
          "base_uri": "https://localhost:8080/",
          "height": 412
        },
        "id": "9QLB3QXXsGo9",
        "outputId": "55c050dd-117c-4012-8702-c4a8b25e4890"
      },
      "execution_count": null,
      "outputs": [
        {
          "output_type": "display_data",
          "data": {
            "text/plain": [
              "<Figure size 400x200 with 2 Axes>"
            ],
            "image/png": "[encoded data removed]"
          },
          "metadata": {}
        },
        {
          "output_type": "stream",
          "name": "stdout",
          "text": [
            "              precision    recall  f1-score   support\n",
            "\n",
            "           0       0.91      0.88      0.89       120\n",
            "           1       0.82      0.88      0.85        80\n",
            "\n",
            "    accuracy                           0.88       200\n",
            "   macro avg       0.87      0.88      0.87       200\n",
            "weighted avg       0.88      0.88      0.88       200\n",
            "\n"
          ]
        }
      ]
    },
    {
      "cell_type": "markdown",
      "source": [
        "Pelos resultados da Matriz de Confusão, é possível extrair alguns insights relevantes para o que Ronaldo precisa.\n",
        "\n",
        "Nota-se que a precisão para a classe 0 (\"Não comprou\") foi o maior resultado. Dessa forma, Ronaldo consegue medir melhor os esforços empregados na venda para os clientes que não vão concretizar a compra, evitando esforço desnecessário.\n",
        "\n",
        "Já sob a ótica do Recall, o resultado foi o mesmo para as duas classes. Portanto, o ideal seria a redução de Falsos Negativos para aproximar o resultado de 1.\n",
        "\n",
        "Aplicando essa análise na prática, é possível chegar a duas conclusões: Ronaldo deve identificar que fatores em sua forma de vender podem ter influenciado aquele cliente a comprar, mesmo que o modelo tenha previsto a não compra. E atentar-se para não deixar que a predição modelo interfira previamente em sua abordagem ao cliente."
      ],
      "metadata": {
        "id": "Wtx9PxfJ2Qe6"
      }
    },
    {
      "cell_type": "markdown",
      "source": [
        "## 9 - Finalização do Modelo"
      ],
      "metadata": {
        "id": "DH23UMPkMk5r"
      }
    },
    {
      "cell_type": "code",
      "source": [
        "# Avaliação do modelo com o conjunto de testes\n",
        "\n",
        "# Preparação do modelo\n",
        "model = BaggingClassifier(base_estimator = DecisionTreeClassifier(), n_estimators=70, max_features = 3)\n",
        "model.fit(X_train, y_train)\n",
        "\n",
        "# Estimativa da acurácia no conjunto de teste\n",
        "predictions = model.predict(X_test)\n",
        "print(accuracy_score(y_test, predictions))\n"
      ],
      "metadata": {
        "colab": {
          "base_uri": "https://localhost:8080/"
        },
        "id": "TXPAA-jul-sz",
        "outputId": "0140d643-1a59-46ca-cf94-be87dd2d34c3"
      },
      "execution_count": null,
      "outputs": [
        {
          "output_type": "stream",
          "name": "stdout",
          "text": [
            "0.885\n"
          ]
        }
      ]
    },
    {
      "cell_type": "code",
      "source": [
        "# Preparação do modelo com TODO o dataset\n",
        "model.fit(X, y)"
      ],
      "metadata": {
        "colab": {
          "base_uri": "https://localhost:8080/",
          "height": 118
        },
        "id": "ANc5o_btMz48",
        "outputId": "ce248ca0-5369-469e-c08a-0dbdef1fa949"
      },
      "execution_count": null,
      "outputs": [
        {
          "output_type": "execute_result",
          "data": {
            "text/plain": [
              "BaggingClassifier(base_estimator=DecisionTreeClassifier(), max_features=3,\n",
              "                  n_estimators=70)"
            ],
            "text/html": [
              "<style>#sk-container-id-3 {color: black;background-color: white;}#sk-container-id-3 pre{padding: 0;}#sk-container-id-3 div.sk-toggleable {background-color: white;}#sk-container-id-3 label.sk-toggleable__label {cursor: pointer;display: block;width: 100%;margin-bottom: 0;padding: 0.3em;box-sizing: border-box;text-align: center;}#sk-container-id-3 label.sk-toggleable__label-arrow:before {content: \"▸\";float: left;margin-right: 0.25em;color: #696969;}#sk-container-id-3 label.sk-toggleable__label-arrow:hover:before {color: black;}#sk-container-id-3 div.sk-estimator:hover label.sk-toggleable__label-arrow:before {color: black;}#sk-container-id-3 div.sk-toggleable__content {max-height: 0;max-width: 0;overflow: hidden;text-align: left;background-color: #f0f8ff;}#sk-container-id-3 div.sk-toggleable__content pre {margin: 0.2em;color: black;border-radius: 0.25em;background-color: #f0f8ff;}#sk-container-id-3 input.sk-toggleable__control:checked~div.sk-toggleable__content {max-height: 200px;max-width: 100%;overflow: auto;}#sk-container-id-3 input.sk-toggleable__control:checked~label.sk-toggleable__label-arrow:before {content: \"▾\";}#sk-container-id-3 div.sk-estimator input.sk-toggleable__control:checked~label.sk-toggleable__label {background-color: #d4ebff;}#sk-container-id-3 div.sk-label input.sk-toggleable__control:checked~label.sk-toggleable__label {background-color: #d4ebff;}#sk-container-id-3 input.sk-hidden--visually {border: 0;clip: rect(1px 1px 1px 1px);clip: rect(1px, 1px, 1px, 1px);height: 1px;margin: -1px;overflow: hidden;padding: 0;position: absolute;width: 1px;}#sk-container-id-3 div.sk-estimator {font-family: monospace;background-color: #f0f8ff;border: 1px dotted black;border-radius: 0.25em;box-sizing: border-box;margin-bottom: 0.5em;}#sk-container-id-3 div.sk-estimator:hover {background-color: #d4ebff;}#sk-container-id-3 div.sk-parallel-item::after {content: \"\";width: 100%;border-bottom: 1px solid gray;flex-grow: 1;}#sk-container-id-3 div.sk-label:hover label.sk-toggleable__label {background-color: #d4ebff;}#sk-container-id-3 div.sk-serial::before {content: \"\";position: absolute;border-left: 1px solid gray;box-sizing: border-box;top: 0;bottom: 0;left: 50%;z-index: 0;}#sk-container-id-3 div.sk-serial {display: flex;flex-direction: column;align-items: center;background-color: white;padding-right: 0.2em;padding-left: 0.2em;position: relative;}#sk-container-id-3 div.sk-item {position: relative;z-index: 1;}#sk-container-id-3 div.sk-parallel {display: flex;align-items: stretch;justify-content: center;background-color: white;position: relative;}#sk-container-id-3 div.sk-item::before, #sk-container-id-3 div.sk-parallel-item::before {content: \"\";position: absolute;border-left: 1px solid gray;box-sizing: border-box;top: 0;bottom: 0;left: 50%;z-index: -1;}#sk-container-id-3 div.sk-parallel-item {display: flex;flex-direction: column;z-index: 1;position: relative;background-color: white;}#sk-container-id-3 div.sk-parallel-item:first-child::after {align-self: flex-end;width: 50%;}#sk-container-id-3 div.sk-parallel-item:last-child::after {align-self: flex-start;width: 50%;}#sk-container-id-3 div.sk-parallel-item:only-child::after {width: 0;}#sk-container-id-3 div.sk-dashed-wrapped {border: 1px dashed gray;margin: 0 0.4em 0.5em 0.4em;box-sizing: border-box;padding-bottom: 0.4em;background-color: white;}#sk-container-id-3 div.sk-label label {font-family: monospace;font-weight: bold;display: inline-block;line-height: 1.2em;}#sk-container-id-3 div.sk-label-container {text-align: center;}#sk-container-id-3 div.sk-container {/* jupyter's `normalize.less` sets `[hidden] { display: none; }` but bootstrap.min.css set `[hidden] { display: none !important; }` so we also need the `!important` here to be able to override the default hidden behavior on the sphinx rendered scikit-learn.org. See: https://github.com/scikit-learn/scikit-learn/issues/21755 */display: inline-block !important;position: relative;}#sk-container-id-3 div.sk-text-repr-fallback {display: none;}</style><div id=\"sk-container-id-3\" class=\"sk-top-container\"><div class=\"sk-text-repr-fallback\"><pre>BaggingClassifier(base_estimator=DecisionTreeClassifier(), max_features=3,\n",
              "                  n_estimators=70)</pre><b>In a Jupyter environment, please rerun this cell to show the HTML representation or trust the notebook. <br />On GitHub, the HTML representation is unable to render, please try loading this page with nbviewer.org.</b></div><div class=\"sk-container\" hidden><div class=\"sk-item sk-dashed-wrapped\"><div class=\"sk-label-container\"><div class=\"sk-label sk-toggleable\"><input class=\"sk-toggleable__control sk-hidden--visually\" id=\"sk-estimator-id-7\" type=\"checkbox\" ><label for=\"sk-estimator-id-7\" class=\"sk-toggleable__label sk-toggleable__label-arrow\">BaggingClassifier</label><div class=\"sk-toggleable__content\"><pre>BaggingClassifier(base_estimator=DecisionTreeClassifier(), max_features=3,\n",
              "                  n_estimators=70)</pre></div></div></div><div class=\"sk-parallel\"><div class=\"sk-parallel-item\"><div class=\"sk-item\"><div class=\"sk-label-container\"><div class=\"sk-label sk-toggleable\"><input class=\"sk-toggleable__control sk-hidden--visually\" id=\"sk-estimator-id-8\" type=\"checkbox\" ><label for=\"sk-estimator-id-8\" class=\"sk-toggleable__label sk-toggleable__label-arrow\">base_estimator: DecisionTreeClassifier</label><div class=\"sk-toggleable__content\"><pre>DecisionTreeClassifier()</pre></div></div></div><div class=\"sk-serial\"><div class=\"sk-item\"><div class=\"sk-estimator sk-toggleable\"><input class=\"sk-toggleable__control sk-hidden--visually\" id=\"sk-estimator-id-9\" type=\"checkbox\" ><label for=\"sk-estimator-id-9\" class=\"sk-toggleable__label sk-toggleable__label-arrow\">DecisionTreeClassifier</label><div class=\"sk-toggleable__content\"><pre>DecisionTreeClassifier()</pre></div></div></div></div></div></div></div></div></div></div>"
            ]
          },
          "metadata": {},
          "execution_count": 197
        }
      ]
    },
    {
      "cell_type": "markdown",
      "source": [
        "## 10 - Considerações Finais"
      ],
      "metadata": {
        "id": "OBO84Bam79Dr"
      }
    },
    {
      "cell_type": "markdown",
      "source": [
        "O modelo foi criado em cima de um dataset pequeno, com apenas 3 atributos e 1 target. Esse foi o fator determinante para, nesse caso específico, a não aplicação do processo de Feature Selection.\n",
        "\n",
        "Por ser uma base pequena, foi aplicada a validação para evitar underfitting do modelo e porque o dataset estava desbalanceado.\n",
        "\n",
        "O modelo retornou uma acurácia de 0,885 através do uso do algoritmo Bagging com as árvores de decisão.\n",
        "\n",
        "Com as informações da Matriz de Confusão e acurácia do modelo, Ronaldo consegue entender melhor como abordar cada cliente a fim de converter o maior número possível de vendas e atingir sua meta."
      ],
      "metadata": {
        "id": "jUc-wlB68CR-"
      }
    }
  ]
}